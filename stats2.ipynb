{
 "cells": [
  {
   "cell_type": "code",
   "execution_count": 1,
   "metadata": {
    "ExecuteTime": {
     "end_time": "2020-01-27T18:05:39.480758Z",
     "start_time": "2020-01-27T18:05:36.892865Z"
    },
    "pycharm": {
     "is_executing": false
    }
   },
   "outputs": [],
   "source": [
    "import pandas as pd\n",
    "from Orange.evaluation import graph_ranks\n",
    "import matplotlib.pyplot as plt\n",
    "from matplotlib import rc\n",
    "import numpy as np"
   ]
  },
  {
   "cell_type": "code",
   "execution_count": 75,
   "outputs": [],
   "source": [
    "meas = 'MCC'\n",
    "gamma1, gamma2 = '10.0', '10.0'"
   ],
   "metadata": {
    "collapsed": false,
    "pycharm": {
     "name": "#%%\n",
     "is_executing": false
    }
   }
  },
  {
   "cell_type": "code",
   "execution_count": 76,
   "metadata": {
    "pycharm": {
     "is_executing": false
    }
   },
   "outputs": [
    {
     "data": {
      "text/plain": "   alpha0.0(mcc)  alpha0.3(mcc)  alpha0.7(mcc)  alpha1.0(mcc)  mv(mcc)  \\\n0          0.434          0.464          0.435          0.263    0.406   \n1          0.310          0.193          0.054          0.059    0.095   \n2          0.508          0.574          0.705          0.358    0.426   \n3          0.829          0.804          0.829          0.821    0.826   \n4          0.231          0.032         -0.017          0.074    0.032   \n\n   rf(mcc)  \n0    0.415  \n1    0.078  \n2    0.691  \n3    0.836  \n4    0.169  ",
      "text/html": "<div>\n<style scoped>\n    .dataframe tbody tr th:only-of-type {\n        vertical-align: middle;\n    }\n\n    .dataframe tbody tr th {\n        vertical-align: top;\n    }\n\n    .dataframe thead th {\n        text-align: right;\n    }\n</style>\n<table border=\"1\" class=\"dataframe\">\n  <thead>\n    <tr style=\"text-align: right;\">\n      <th></th>\n      <th>alpha0.0(mcc)</th>\n      <th>alpha0.3(mcc)</th>\n      <th>alpha0.7(mcc)</th>\n      <th>alpha1.0(mcc)</th>\n      <th>mv(mcc)</th>\n      <th>rf(mcc)</th>\n    </tr>\n  </thead>\n  <tbody>\n    <tr>\n      <th>0</th>\n      <td>0.434</td>\n      <td>0.464</td>\n      <td>0.435</td>\n      <td>0.263</td>\n      <td>0.406</td>\n      <td>0.415</td>\n    </tr>\n    <tr>\n      <th>1</th>\n      <td>0.310</td>\n      <td>0.193</td>\n      <td>0.054</td>\n      <td>0.059</td>\n      <td>0.095</td>\n      <td>0.078</td>\n    </tr>\n    <tr>\n      <th>2</th>\n      <td>0.508</td>\n      <td>0.574</td>\n      <td>0.705</td>\n      <td>0.358</td>\n      <td>0.426</td>\n      <td>0.691</td>\n    </tr>\n    <tr>\n      <th>3</th>\n      <td>0.829</td>\n      <td>0.804</td>\n      <td>0.829</td>\n      <td>0.821</td>\n      <td>0.826</td>\n      <td>0.836</td>\n    </tr>\n    <tr>\n      <th>4</th>\n      <td>0.231</td>\n      <td>0.032</td>\n      <td>-0.017</td>\n      <td>0.074</td>\n      <td>0.032</td>\n      <td>0.169</td>\n    </tr>\n  </tbody>\n</table>\n</div>"
     },
     "metadata": {},
     "output_type": "execute_result",
     "execution_count": 76
    }
   ],
   "source": [
    "table = pd.read_csv('csv/' + '_'.join([meas.lower(), gamma1, gamma2]) + '.csv', index_col = False)\n",
    "table.head()"
   ]
  },
  {
   "cell_type": "code",
   "execution_count": 77,
   "metadata": {
    "pycharm": {
     "is_executing": false
    }
   },
   "outputs": [],
   "source": [
    "ref = ['MV', 'RF']\n",
    "alg = ['0.0', '0.3', '0.7', '1.0']\n",
    "rows = alg + ref\n",
    "generate_latex = ['$\\Psi_{' + a + '}$' for a in alg] + ['$\\Psi_{' + r.lower() + '}$' for r in ref]"
   ]
  },
  {
   "cell_type": "code",
   "execution_count": 78,
   "metadata": {
    "pycharm": {
     "is_executing": false
    }
   },
   "outputs": [
    {
     "data": {
      "text/plain": "(11, 6)"
     },
     "metadata": {},
     "output_type": "execute_result",
     "execution_count": 78
    }
   ],
   "source": [
    "table.shape"
   ]
  },
  {
   "cell_type": "code",
   "execution_count": 79,
   "metadata": {
    "pycharm": {
     "is_executing": false
    }
   },
   "outputs": [
    {
     "name": "stdout",
     "text": [
      "alpha0.0(mcc)    3.590909\n",
      "alpha0.3(mcc)    3.409091\n",
      "alpha0.7(mcc)    3.590909\n",
      "alpha1.0(mcc)    3.818182\n",
      "mv(mcc)          3.863636\n",
      "rf(mcc)          2.727273\n",
      "dtype: float64\n"
     ],
     "output_type": "stream"
    },
    {
     "data": {
      "text/plain": "array([3.59, 3.41, 3.59, 3.82, 3.86, 2.73])"
     },
     "metadata": {},
     "output_type": "execute_result",
     "execution_count": 79
    }
   ],
   "source": [
    "ranks = table.transpose().round(3).rank(ascending = False)\n",
    "mean_ranks = ranks.mean(axis = 1)\n",
    "print(mean_ranks)\n",
    "mean_ranks.round(2).values"
   ]
  },
  {
   "cell_type": "code",
   "execution_count": 80,
   "metadata": {
    "pycharm": {
     "is_executing": false
    }
   },
   "outputs": [
    {
     "data": {
      "text/plain": "<Figure size 576x126 with 1 Axes>",
      "image/png": "[encoded data removed]"
     },
     "metadata": {},
     "output_type": "display_data"
    }
   ],
   "source": [
    "rc('font', **{'family': 'sans-serif', 'sans-serif': ['Helvetica'], 'size': 12})\n",
    "# rc('font',**{'family':'serif','serif':['Palatino']})\n",
    "fig = graph_ranks(mean_ranks.array, generate_latex, 1.44, textspace = 1.5, width = 8, filename=('_'.join([meas, str(int(float(gamma1))), str(int(float(gamma2)))]) + '.png'))"
   ]
  },
  {
   "cell_type": "code",
   "execution_count": 13,
   "outputs": [
    {
     "data": {
      "text/plain": "<Figure size 432x288 with 1 Axes>",
      "image/png": "[encoded data removed]"
     },
     "metadata": {
      "needs_background": "light"
     },
     "output_type": "display_data"
    }
   ],
   "source": [
    "ar = np.linspace(0, 1, 101)\n",
    "y1 = np.exp(np.power(ar - .5, 2) * (-20))\n",
    "y2 = np.exp(np.power(ar, 2) * (-5))\n",
    "plt.plot(ar, y1)\n",
    "plt.plot(ar, y2)\n",
    "plt.legend(['B', '$\\omega$'])\n",
    "plt.savefig('mapping.png')\n"
   ],
   "metadata": {
    "collapsed": false,
    "pycharm": {
     "name": "#%%\n",
     "is_executing": false
    }
   }
  }
 ],
 "metadata": {
  "kernelspec": {
   "display_name": "Python 3",
   "language": "python",
   "name": "python3"
  },
  "language_info": {
   "codemirror_mode": {
    "name": "ipython",
    "version": 3
   },
   "file_extension": ".py",
   "mimetype": "text/x-python",
   "name": "python",
   "nbconvert_exporter": "python",
   "pygments_lexer": "ipython3",
   "version": "3.7.5"
  },
  "toc": {
   "base_numbering": 1,
   "nav_menu": {},
   "number_sections": true,
   "sideBar": true,
   "skip_h1_title": false,
   "title_cell": "Table of Contents",
   "title_sidebar": "Contents",
   "toc_cell": false,
   "toc_position": {},
   "toc_section_display": true,
   "toc_window_display": false
  },
  "varInspector": {
   "cols": {
    "lenName": 16,
    "lenType": 16,
    "lenVar": 40
   },
   "kernels_config": {
    "python": {
     "delete_cmd_postfix": "",
     "delete_cmd_prefix": "del ",
     "library": "var_list.py",
     "varRefreshCmd": "print(var_dic_list())"
    },
    "r": {
     "delete_cmd_postfix": ") ",
     "delete_cmd_prefix": "rm(",
     "library": "var_list.r",
     "varRefreshCmd": "cat(var_dic_list()) "
    }
   },
   "types_to_exclude": [
    "module",
    "function",
    "builtin_function_or_method",
    "instance",
    "_Feature"
   ],
   "window_display": false
  },
  "pycharm": {
   "stem_cell": {
    "cell_type": "raw",
    "source": [],
    "metadata": {
     "collapsed": false
    }
   }
  }
 },
 "nbformat": 4,
 "nbformat_minor": 4
}