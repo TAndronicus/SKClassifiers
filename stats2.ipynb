{
 "cells": [
  {
   "cell_type": "code",
   "execution_count": 120,
   "metadata": {
    "ExecuteTime": {
     "end_time": "2020-01-27T18:05:39.480758Z",
     "start_time": "2020-01-27T18:05:36.892865Z"
    },
    "pycharm": {
     "is_executing": false
    }
   },
   "outputs": [],
   "source": [
    "import pandas as pd\n",
    "from Orange.evaluation import graph_ranks\n",
    "import matplotlib.pyplot as plt\n",
    "from matplotlib import rc"
   ]
  },
  {
   "cell_type": "code",
   "execution_count": 121,
   "outputs": [],
   "source": [
    "meas = 'ACC'\n",
    "gamma1, gamma2 = '20.0', '5.0'"
   ],
   "metadata": {
    "collapsed": false,
    "pycharm": {
     "name": "#%%\n",
     "is_executing": false
    }
   }
  },
  {
   "cell_type": "code",
   "execution_count": 122,
   "metadata": {
    "pycharm": {
     "is_executing": false
    }
   },
   "outputs": [
    {
     "data": {
      "text/plain": "   alpha0.0(acc)  alpha0.3(acc)  alpha0.7(acc)  alpha1.0(acc)  mv(acc)  \\\n0          0.715          0.722          0.726          0.692    0.720   \n1          0.658          0.497          0.528          0.582    0.568   \n2          0.742          0.761          0.769          0.758    0.716   \n3          0.915          0.907          0.907          0.921    0.912   \n4          0.717          0.691          0.725          0.742    0.707   \n\n   rf(acc)  \n0    0.724  \n1    0.546  \n2    0.840  \n3    0.919  \n4    0.746  ",
      "text/html": "<div>\n<style scoped>\n    .dataframe tbody tr th:only-of-type {\n        vertical-align: middle;\n    }\n\n    .dataframe tbody tr th {\n        vertical-align: top;\n    }\n\n    .dataframe thead th {\n        text-align: right;\n    }\n</style>\n<table border=\"1\" class=\"dataframe\">\n  <thead>\n    <tr style=\"text-align: right;\">\n      <th></th>\n      <th>alpha0.0(acc)</th>\n      <th>alpha0.3(acc)</th>\n      <th>alpha0.7(acc)</th>\n      <th>alpha1.0(acc)</th>\n      <th>mv(acc)</th>\n      <th>rf(acc)</th>\n    </tr>\n  </thead>\n  <tbody>\n    <tr>\n      <th>0</th>\n      <td>0.715</td>\n      <td>0.722</td>\n      <td>0.726</td>\n      <td>0.692</td>\n      <td>0.720</td>\n      <td>0.724</td>\n    </tr>\n    <tr>\n      <th>1</th>\n      <td>0.658</td>\n      <td>0.497</td>\n      <td>0.528</td>\n      <td>0.582</td>\n      <td>0.568</td>\n      <td>0.546</td>\n    </tr>\n    <tr>\n      <th>2</th>\n      <td>0.742</td>\n      <td>0.761</td>\n      <td>0.769</td>\n      <td>0.758</td>\n      <td>0.716</td>\n      <td>0.840</td>\n    </tr>\n    <tr>\n      <th>3</th>\n      <td>0.915</td>\n      <td>0.907</td>\n      <td>0.907</td>\n      <td>0.921</td>\n      <td>0.912</td>\n      <td>0.919</td>\n    </tr>\n    <tr>\n      <th>4</th>\n      <td>0.717</td>\n      <td>0.691</td>\n      <td>0.725</td>\n      <td>0.742</td>\n      <td>0.707</td>\n      <td>0.746</td>\n    </tr>\n  </tbody>\n</table>\n</div>"
     },
     "metadata": {},
     "output_type": "execute_result",
     "execution_count": 122
    }
   ],
   "source": [
    "table = pd.read_csv('csv/' + '_'.join([meas.lower(), gamma1, gamma2]) + '.csv', index_col = False)\n",
    "table.head()"
   ]
  },
  {
   "cell_type": "code",
   "execution_count": 123,
   "metadata": {
    "pycharm": {
     "is_executing": false
    }
   },
   "outputs": [],
   "source": [
    "ref = ['MV', 'RF']\n",
    "alg = ['0.0', '0.3', '0.7', '1.0']\n",
    "rows = alg + ref\n",
    "generate_latex = ['$\\Psi_{' + a + '}$' for a in alg] + ['$\\Psi_{' + r.lower() + '}$' for r in ref]"
   ]
  },
  {
   "cell_type": "code",
   "execution_count": 124,
   "metadata": {
    "pycharm": {
     "is_executing": false
    }
   },
   "outputs": [
    {
     "data": {
      "text/plain": "(11, 6)"
     },
     "metadata": {},
     "output_type": "execute_result",
     "execution_count": 124
    }
   ],
   "source": [
    "table.shape"
   ]
  },
  {
   "cell_type": "code",
   "execution_count": 125,
   "metadata": {
    "pycharm": {
     "is_executing": false
    }
   },
   "outputs": [
    {
     "data": {
      "text/plain": "alpha0.0(acc)    2.727273\nalpha0.3(acc)    3.681818\nalpha0.7(acc)    3.681818\nalpha1.0(acc)    4.090909\nmv(acc)          4.227273\nrf(acc)          2.590909\ndtype: float64"
     },
     "metadata": {},
     "output_type": "execute_result",
     "execution_count": 125
    }
   ],
   "source": [
    "ranks = table.transpose().round(3).rank(ascending = False)\n",
    "mean_ranks = ranks.mean(axis = 1)\n",
    "mean_ranks"
   ]
  },
  {
   "cell_type": "code",
   "execution_count": 126,
   "metadata": {
    "pycharm": {
     "is_executing": false
    }
   },
   "outputs": [
    {
     "data": {
      "text/plain": "<Figure size 576x140.4 with 1 Axes>",
      "image/png": "[encoded data removed]"
     },
     "metadata": {},
     "output_type": "display_data"
    }
   ],
   "source": [
    "rc('font', **{'family': 'sans-serif', 'sans-serif': ['Helvetica'], 'size': 12})\n",
    "# rc('font',**{'family':'serif','serif':['Palatino']})\n",
    "fig = graph_ranks(mean_ranks.array, generate_latex, 1.44, textspace = 1.5, width = 8, filename=('_'.join([meas, str(int(float(gamma1))), str(int(float(gamma2)))]) + '.png'))"
   ]
  }
 ],
 "metadata": {
  "kernelspec": {
   "display_name": "Python 3",
   "language": "python",
   "name": "python3"
  },
  "language_info": {
   "codemirror_mode": {
    "name": "ipython",
    "version": 3
   },
   "file_extension": ".py",
   "mimetype": "text/x-python",
   "name": "python",
   "nbconvert_exporter": "python",
   "pygments_lexer": "ipython3",
   "version": "3.7.5"
  },
  "toc": {
   "base_numbering": 1,
   "nav_menu": {},
   "number_sections": true,
   "sideBar": true,
   "skip_h1_title": false,
   "title_cell": "Table of Contents",
   "title_sidebar": "Contents",
   "toc_cell": false,
   "toc_position": {},
   "toc_section_display": true,
   "toc_window_display": false
  },
  "varInspector": {
   "cols": {
    "lenName": 16,
    "lenType": 16,
    "lenVar": 40
   },
   "kernels_config": {
    "python": {
     "delete_cmd_postfix": "",
     "delete_cmd_prefix": "del ",
     "library": "var_list.py",
     "varRefreshCmd": "print(var_dic_list())"
    },
    "r": {
     "delete_cmd_postfix": ") ",
     "delete_cmd_prefix": "rm(",
     "library": "var_list.r",
     "varRefreshCmd": "cat(var_dic_list()) "
    }
   },
   "types_to_exclude": [
    "module",
    "function",
    "builtin_function_or_method",
    "instance",
    "_Feature"
   ],
   "window_display": false
  },
  "pycharm": {
   "stem_cell": {
    "cell_type": "raw",
    "source": [],
    "metadata": {
     "collapsed": false
    }
   }
  }
 },
 "nbformat": 4,
 "nbformat_minor": 4
}