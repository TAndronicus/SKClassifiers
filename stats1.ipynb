{
 "cells": [
  {
   "cell_type": "code",
   "execution_count": 47,
   "metadata": {
    "ExecuteTime": {
     "end_time": "2020-01-27T18:05:39.480758Z",
     "start_time": "2020-01-27T18:05:36.892865Z"
    }
   },
   "outputs": [],
   "source": [
    "import pandas as pd\n",
    "from Orange.evaluation import graph_ranks\n",
    "import matplotlib.pyplot as plt\n",
    "from matplotlib import rc"
   ]
  },
  {
   "cell_type": "code",
   "execution_count": 3,
   "metadata": {},
   "outputs": [
    {
     "data": {
      "text/html": [
       "<div>\n",
       "<style scoped>\n",
       "    .dataframe tbody tr th:only-of-type {\n",
       "        vertical-align: middle;\n",
       "    }\n",
       "\n",
       "    .dataframe tbody tr th {\n",
       "        vertical-align: top;\n",
       "    }\n",
       "\n",
       "    .dataframe thead th {\n",
       "        text-align: right;\n",
       "    }\n",
       "</style>\n",
       "<table border=\"1\" class=\"dataframe\">\n",
       "  <thead>\n",
       "    <tr style=\"text-align: right;\">\n",
       "      <th></th>\n",
       "      <th>MV(ACC)</th>\n",
       "      <th>MV(MCC)</th>\n",
       "      <th>RF(ACC)</th>\n",
       "      <th>RF(MCC)</th>\n",
       "      <th>wMV^vol(ACC)</th>\n",
       "      <th>wMV^vol(MCC)</th>\n",
       "      <th>Psi_20^vol(ACC)</th>\n",
       "      <th>Psi_20^vol(MCC)</th>\n",
       "      <th>Psi_40^vol(ACC)</th>\n",
       "      <th>Psi_40^vol(MCC)</th>\n",
       "      <th>Psi_60^vol(ACC)</th>\n",
       "      <th>Psi_60^vol(MCC)</th>\n",
       "      <th>wMV^inv(ACC)</th>\n",
       "      <th>wMV^inv(MCC)</th>\n",
       "      <th>Psi_20^inv(ACC)</th>\n",
       "      <th>Psi_20^inv(MCC)</th>\n",
       "      <th>Psi_40^inv(ACC)</th>\n",
       "      <th>Psi_40^inv(MCC)</th>\n",
       "      <th>Psi_60^inv(ACC)</th>\n",
       "      <th>Psi_60^inv(MCC)</th>\n",
       "    </tr>\n",
       "  </thead>\n",
       "  <tbody>\n",
       "    <tr>\n",
       "      <th>0</th>\n",
       "      <td>0.722970</td>\n",
       "      <td>0.414667</td>\n",
       "      <td>0.718597</td>\n",
       "      <td>0.400858</td>\n",
       "      <td>0.692056</td>\n",
       "      <td>0.229999</td>\n",
       "      <td>0.722970</td>\n",
       "      <td>0.414667</td>\n",
       "      <td>0.722970</td>\n",
       "      <td>0.414667</td>\n",
       "      <td>0.722970</td>\n",
       "      <td>0.414667</td>\n",
       "      <td>0.702444</td>\n",
       "      <td>0.428149</td>\n",
       "      <td>0.722970</td>\n",
       "      <td>0.414667</td>\n",
       "      <td>0.722970</td>\n",
       "      <td>0.414667</td>\n",
       "      <td>0.722970</td>\n",
       "      <td>0.414667</td>\n",
       "    </tr>\n",
       "    <tr>\n",
       "      <th>1</th>\n",
       "      <td>0.600494</td>\n",
       "      <td>0.169178</td>\n",
       "      <td>0.575647</td>\n",
       "      <td>0.114560</td>\n",
       "      <td>0.571050</td>\n",
       "      <td>0.093556</td>\n",
       "      <td>0.594338</td>\n",
       "      <td>0.166348</td>\n",
       "      <td>0.592238</td>\n",
       "      <td>0.129351</td>\n",
       "      <td>0.614253</td>\n",
       "      <td>0.205159</td>\n",
       "      <td>0.603687</td>\n",
       "      <td>0.166156</td>\n",
       "      <td>0.583114</td>\n",
       "      <td>0.144028</td>\n",
       "      <td>0.587645</td>\n",
       "      <td>0.142386</td>\n",
       "      <td>0.614253</td>\n",
       "      <td>0.205159</td>\n",
       "    </tr>\n",
       "    <tr>\n",
       "      <th>2</th>\n",
       "      <td>0.777511</td>\n",
       "      <td>0.582502</td>\n",
       "      <td>0.737924</td>\n",
       "      <td>0.463108</td>\n",
       "      <td>0.674819</td>\n",
       "      <td>0.441484</td>\n",
       "      <td>0.784178</td>\n",
       "      <td>0.594023</td>\n",
       "      <td>0.764178</td>\n",
       "      <td>0.594023</td>\n",
       "      <td>0.764178</td>\n",
       "      <td>0.594023</td>\n",
       "      <td>0.677682</td>\n",
       "      <td>0.425341</td>\n",
       "      <td>0.775845</td>\n",
       "      <td>0.581067</td>\n",
       "      <td>0.764178</td>\n",
       "      <td>0.594023</td>\n",
       "      <td>0.764178</td>\n",
       "      <td>0.594023</td>\n",
       "    </tr>\n",
       "    <tr>\n",
       "      <th>3</th>\n",
       "      <td>0.906900</td>\n",
       "      <td>0.814653</td>\n",
       "      <td>0.899182</td>\n",
       "      <td>0.796811</td>\n",
       "      <td>0.884991</td>\n",
       "      <td>0.771090</td>\n",
       "      <td>0.909483</td>\n",
       "      <td>0.819315</td>\n",
       "      <td>0.903726</td>\n",
       "      <td>0.808270</td>\n",
       "      <td>0.912568</td>\n",
       "      <td>0.826043</td>\n",
       "      <td>0.909370</td>\n",
       "      <td>0.825056</td>\n",
       "      <td>0.909483</td>\n",
       "      <td>0.819315</td>\n",
       "      <td>0.903726</td>\n",
       "      <td>0.808270</td>\n",
       "      <td>0.912568</td>\n",
       "      <td>0.826043</td>\n",
       "    </tr>\n",
       "    <tr>\n",
       "      <th>4</th>\n",
       "      <td>0.708772</td>\n",
       "      <td>0.139715</td>\n",
       "      <td>0.696815</td>\n",
       "      <td>0.078224</td>\n",
       "      <td>0.677616</td>\n",
       "      <td>0.140569</td>\n",
       "      <td>0.706484</td>\n",
       "      <td>0.140649</td>\n",
       "      <td>0.698867</td>\n",
       "      <td>0.120887</td>\n",
       "      <td>0.708772</td>\n",
       "      <td>0.139715</td>\n",
       "      <td>0.676503</td>\n",
       "      <td>0.146623</td>\n",
       "      <td>0.704310</td>\n",
       "      <td>0.136654</td>\n",
       "      <td>0.698867</td>\n",
       "      <td>0.120887</td>\n",
       "      <td>0.708772</td>\n",
       "      <td>0.139715</td>\n",
       "    </tr>\n",
       "  </tbody>\n",
       "</table>\n",
       "</div>"
      ],
      "text/plain": [
       "    MV(ACC)   MV(MCC)   RF(ACC)   RF(MCC)  wMV^vol(ACC)  wMV^vol(MCC)  \\\n",
       "0  0.722970  0.414667  0.718597  0.400858      0.692056      0.229999   \n",
       "1  0.600494  0.169178  0.575647  0.114560      0.571050      0.093556   \n",
       "2  0.777511  0.582502  0.737924  0.463108      0.674819      0.441484   \n",
       "3  0.906900  0.814653  0.899182  0.796811      0.884991      0.771090   \n",
       "4  0.708772  0.139715  0.696815  0.078224      0.677616      0.140569   \n",
       "\n",
       "   Psi_20^vol(ACC)  Psi_20^vol(MCC)  Psi_40^vol(ACC)  Psi_40^vol(MCC)  \\\n",
       "0         0.722970         0.414667         0.722970         0.414667   \n",
       "1         0.594338         0.166348         0.592238         0.129351   \n",
       "2         0.784178         0.594023         0.764178         0.594023   \n",
       "3         0.909483         0.819315         0.903726         0.808270   \n",
       "4         0.706484         0.140649         0.698867         0.120887   \n",
       "\n",
       "   Psi_60^vol(ACC)  Psi_60^vol(MCC)  wMV^inv(ACC)  wMV^inv(MCC)  \\\n",
       "0         0.722970         0.414667      0.702444      0.428149   \n",
       "1         0.614253         0.205159      0.603687      0.166156   \n",
       "2         0.764178         0.594023      0.677682      0.425341   \n",
       "3         0.912568         0.826043      0.909370      0.825056   \n",
       "4         0.708772         0.139715      0.676503      0.146623   \n",
       "\n",
       "   Psi_20^inv(ACC)  Psi_20^inv(MCC)  Psi_40^inv(ACC)  Psi_40^inv(MCC)  \\\n",
       "0         0.722970         0.414667         0.722970         0.414667   \n",
       "1         0.583114         0.144028         0.587645         0.142386   \n",
       "2         0.775845         0.581067         0.764178         0.594023   \n",
       "3         0.909483         0.819315         0.903726         0.808270   \n",
       "4         0.704310         0.136654         0.698867         0.120887   \n",
       "\n",
       "   Psi_60^inv(ACC)  Psi_60^inv(MCC)  \n",
       "0         0.722970         0.414667  \n",
       "1         0.614253         0.205159  \n",
       "2         0.764178         0.594023  \n",
       "3         0.912568         0.826043  \n",
       "4         0.708772         0.139715  "
      ]
     },
     "execution_count": 3,
     "metadata": {},
     "output_type": "execute_result"
    }
   ],
   "source": [
    "table = pd.read_csv('dtd-batch/5_2_[20_40_60]')\n",
    "table.head()"
   ]
  },
  {
   "cell_type": "code",
   "execution_count": 28,
   "metadata": {},
   "outputs": [],
   "source": [
    "ref = ['MV', 'RF']\n",
    "alg = ['Psi_20', 'Psi_40', 'Psi_60']\n",
    "meth = ['^' + me for me in ['vol', 'inv']]\n",
    "meas = ['(' + me + ')' for me in ['ACC', 'MCC']]\n",
    "generate_rows = lambda x, y: [r + meas[x] for r in ref] + [a + meth[y] + meas[x] for a in alg]\n",
    "generate_latex = lambda x, y: ['$\\Psi_{' + r.lower() + '}$' for r in ref] + ['$\\Psi_{' + a.split('_')[1] + '}$' for a in alg]"
   ]
  },
  {
   "cell_type": "code",
   "execution_count": 5,
   "metadata": {},
   "outputs": [
    {
     "data": {
      "text/plain": [
       "(11, 20)"
      ]
     },
     "execution_count": 5,
     "metadata": {},
     "output_type": "execute_result"
    }
   ],
   "source": [
    "table.shape"
   ]
  },
  {
   "cell_type": "code",
   "execution_count": 61,
   "metadata": {},
   "outputs": [
    {
     "data": {
      "text/plain": [
       "MV(MCC)            2.363636\n",
       "RF(MCC)            4.500000\n",
       "Psi_20^inv(MCC)    2.681818\n",
       "Psi_40^inv(MCC)    3.090909\n",
       "Psi_60^inv(MCC)    2.363636\n",
       "dtype: float64"
      ]
     },
     "execution_count": 61,
     "metadata": {},
     "output_type": "execute_result"
    }
   ],
   "source": [
    "x, y = 1, 1\n",
    "ranks = table[generate_rows(x, y)].transpose().round(3).rank(ascending = False)\n",
    "mean_ranks = ranks.mean(axis = 1)\n",
    "mean_ranks"
   ]
  },
  {
   "cell_type": "code",
   "execution_count": 62,
   "metadata": {},
   "outputs": [
    {
     "data": {
      "image/png": "[encoded data removed]",
      "text/plain": [
       "<Figure size 576x118.8 with 1 Axes>"
      ]
     },
     "metadata": {},
     "output_type": "display_data"
    }
   ],
   "source": [
    "rc('font', **{'family': 'sans-serif', 'sans-serif': ['Helvetica'], 'size': 12})\n",
    "# rc('font',**{'family':'serif','serif':['Palatino']})\n",
    "fig = graph_ranks(mean_ranks.array, generate_latex(x, y), 1.18, textspace = 1.5, width = 8, filename=(str(x) + str(y)))"
   ]
  }
 ],
 "metadata": {
  "kernelspec": {
   "display_name": "Python 3",
   "language": "python",
   "name": "python3"
  },
  "language_info": {
   "codemirror_mode": {
    "name": "ipython",
    "version": 3
   },
   "file_extension": ".py",
   "mimetype": "text/x-python",
   "name": "python",
   "nbconvert_exporter": "python",
   "pygments_lexer": "ipython3",
   "version": "3.7.5"
  },
  "toc": {
   "base_numbering": 1,
   "nav_menu": {},
   "number_sections": true,
   "sideBar": true,
   "skip_h1_title": false,
   "title_cell": "Table of Contents",
   "title_sidebar": "Contents",
   "toc_cell": false,
   "toc_position": {},
   "toc_section_display": true,
   "toc_window_display": false
  },
  "varInspector": {
   "cols": {
    "lenName": 16,
    "lenType": 16,
    "lenVar": 40
   },
   "kernels_config": {
    "python": {
     "delete_cmd_postfix": "",
     "delete_cmd_prefix": "del ",
     "library": "var_list.py",
     "varRefreshCmd": "print(var_dic_list())"
    },
    "r": {
     "delete_cmd_postfix": ") ",
     "delete_cmd_prefix": "rm(",
     "library": "var_list.r",
     "varRefreshCmd": "cat(var_dic_list()) "
    }
   },
   "types_to_exclude": [
    "module",
    "function",
    "builtin_function_or_method",
    "instance",
    "_Feature"
   ],
   "window_display": false
  }
 },
 "nbformat": 4,
 "nbformat_minor": 4
}
